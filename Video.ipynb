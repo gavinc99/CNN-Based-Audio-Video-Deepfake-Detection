{
 "cells": [
  {
   "cell_type": "code",
   "execution_count": 1,
   "id": "6f7b4b2c-ea9f-4fda-9936-f2bb3abd0360",
   "metadata": {},
   "outputs": [
    {
     "name": "stdout",
     "output_type": "stream",
     "text": [
      "✅ MTCNN face crops saved for REAL: C:/Users/gavin/Documents/Dataset/VIDEO/REAL → C:/Users/gavin/Documents/Dataset/face_crops\\REAL\n",
      "✅ MTCNN face crops saved for FAKE: C:/Users/gavin/Documents/Dataset/VIDEO/FAKE → C:/Users/gavin/Documents/Dataset/face_crops\\FAKE\n"
     ]
    }
   ],
   "source": [
    "# Import required libraries\n",
    "import os\n",
    "import cv2\n",
    "from mtcnn.mtcnn import MTCNN\n",
    "from PIL import Image\n",
    "\n",
    "# Define the face extraction function using MTCNN\n",
    "def extract_faces_mtcnn(video_dir, output_dir, label, resize=(128, 128), frame_skip=15, confidence_threshold=0.95):\n",
    "    os.makedirs(output_dir, exist_ok=True)\n",
    "    detector = MTCNN()\n",
    "\n",
    "    for filename in os.listdir(video_dir):\n",
    "        if filename.endswith(\".mp4\"):\n",
    "            video_path = os.path.join(video_dir, filename)\n",
    "            cap = cv2.VideoCapture(video_path)\n",
    "\n",
    "            frame_idx = 0\n",
    "            face_idx = 0\n",
    "\n",
    "            while True:\n",
    "                success, frame = cap.read()\n",
    "                if not success:\n",
    "                    break\n",
    "\n",
    "                if frame_idx % frame_skip == 0:\n",
    "                    rgb_frame = cv2.cvtColor(frame, cv2.COLOR_BGR2RGB)\n",
    "                    detections = detector.detect_faces(rgb_frame)\n",
    "\n",
    "                    for detection in detections:\n",
    "                        if detection['confidence'] >= confidence_threshold:\n",
    "                            x, y, w, h = detection['box']\n",
    "                            x, y = max(0, x), max(0, y)\n",
    "                            face_crop = rgb_frame[y:y+h, x:x+w]\n",
    "\n",
    "                            face_img = Image.fromarray(face_crop)\n",
    "                            face_img = face_img.resize(resize)\n",
    "                            out_name = f\"{label}_{os.path.splitext(filename)[0]}_face{face_idx}.jpg\"\n",
    "                            out_path = os.path.join(output_dir, out_name)\n",
    "                            face_img.save(out_path)\n",
    "                            face_idx += 1\n",
    "\n",
    "                frame_idx += 1\n",
    "\n",
    "            cap.release()\n",
    "\n",
    "    print(f\"✅ MTCNN face crops saved for {label}: {video_dir} → {output_dir}\")\n",
    "\n",
    "# Set directories and run for both classes\n",
    "real_video_dir = \"C:/Users/gavin/Documents/Dataset/VIDEO/REAL\"\n",
    "fake_video_dir = \"C:/Users/gavin/Documents/Dataset/VIDEO/FAKE\"\n",
    "output_base_dir = \"C:/Users/gavin/Documents/Dataset/face_crops\"\n",
    "\n",
    "extract_faces_mtcnn(real_video_dir, os.path.join(output_base_dir, \"REAL\"), label=\"REAL\")\n",
    "extract_faces_mtcnn(fake_video_dir, os.path.join(output_base_dir, \"FAKE\"), label=\"FAKE\")\n"
   ]
  },
  {
   "cell_type": "code",
   "execution_count": 2,
   "id": "6d942d5f-078a-4842-89ba-fbdc15e2c713",
   "metadata": {},
   "outputs": [
    {
     "name": "stdout",
     "output_type": "stream",
     "text": [
      "✅ Step 2 complete.\n",
      "X_train shape: (937, 128, 128, 3)\n",
      "y_train shape: (937, 2)\n",
      "Class labels: ['FAKE' 'REAL']\n"
     ]
    }
   ],
   "source": [
    "import numpy as np\n",
    "from PIL import Image\n",
    "from sklearn.model_selection import train_test_split\n",
    "from sklearn.preprocessing import LabelEncoder\n",
    "from tensorflow.keras.utils import to_categorical\n",
    "\n",
    "def load_face_images(real_dir, fake_dir, image_size=(128, 128)):\n",
    "    images = []\n",
    "    labels = []\n",
    "\n",
    "    for label, directory in [(\"REAL\", real_dir), (\"FAKE\", fake_dir)]:\n",
    "        for filename in os.listdir(directory):\n",
    "            if filename.endswith(\".jpg\"):\n",
    "                path = os.path.join(directory, filename)\n",
    "                img = Image.open(path).convert(\"RGB\")\n",
    "                img = img.resize(image_size)\n",
    "                img_array = np.array(img) / 255.0\n",
    "                images.append(img_array)\n",
    "                labels.append(label)\n",
    "\n",
    "    return np.array(images), np.array(labels)\n",
    "\n",
    "# Set your face crop directories\n",
    "face_dir_real = \"C:/Users/gavin/Documents/Dataset/face_crops/REAL\"\n",
    "face_dir_fake = \"C:/Users/gavin/Documents/Dataset/face_crops/FAKE\"\n",
    "\n",
    "# Load data\n",
    "X, y_labels = load_face_images(face_dir_real, face_dir_fake)\n",
    "\n",
    "# Encode labels\n",
    "label_encoder = LabelEncoder()\n",
    "y = label_encoder.fit_transform(y_labels)  # FAKE = 0, REAL = 1\n",
    "y = to_categorical(y, num_classes=2)\n",
    "\n",
    "# Train/test split\n",
    "X_train, X_test, y_train, y_test = train_test_split(\n",
    "    X, y, test_size=0.2, stratify=y, random_state=42\n",
    ")\n",
    "\n",
    "print(\"✅ Step 2 complete.\")\n",
    "print(\"X_train shape:\", X_train.shape)\n",
    "print(\"y_train shape:\", y_train.shape)\n",
    "print(\"Class labels:\", label_encoder.classes_)\n"
   ]
  },
  {
   "cell_type": "code",
   "execution_count": 3,
   "id": "f00f6366-e8ac-4bc9-abfe-bf66639e3999",
   "metadata": {},
   "outputs": [
    {
     "name": "stdout",
     "output_type": "stream",
     "text": [
      "Epoch 1/20\n",
      "\u001b[1m118/118\u001b[0m \u001b[32m━━━━━━━━━━━━━━━━━━━━\u001b[0m\u001b[37m\u001b[0m \u001b[1m26s\u001b[0m 137ms/step - accuracy: 0.5287 - loss: 1.3206 - val_accuracy: 0.7277 - val_loss: 0.6059\n",
      "Epoch 2/20\n",
      "\u001b[1m118/118\u001b[0m \u001b[32m━━━━━━━━━━━━━━━━━━━━\u001b[0m\u001b[37m\u001b[0m \u001b[1m13s\u001b[0m 110ms/step - accuracy: 0.6138 - loss: 0.6795 - val_accuracy: 0.7574 - val_loss: 0.5232\n",
      "Epoch 3/20\n",
      "\u001b[1m118/118\u001b[0m \u001b[32m━━━━━━━━━━━━━━━━━━━━\u001b[0m\u001b[37m\u001b[0m \u001b[1m20s\u001b[0m 106ms/step - accuracy: 0.6044 - loss: 0.6563 - val_accuracy: 0.8128 - val_loss: 0.4829\n",
      "Epoch 4/20\n",
      "\u001b[1m118/118\u001b[0m \u001b[32m━━━━━━━━━━━━━━━━━━━━\u001b[0m\u001b[37m\u001b[0m \u001b[1m21s\u001b[0m 108ms/step - accuracy: 0.7136 - loss: 0.5413 - val_accuracy: 0.7532 - val_loss: 0.4782\n",
      "Epoch 5/20\n",
      "\u001b[1m118/118\u001b[0m \u001b[32m━━━━━━━━━━━━━━━━━━━━\u001b[0m\u001b[37m\u001b[0m \u001b[1m20s\u001b[0m 105ms/step - accuracy: 0.6999 - loss: 0.5410 - val_accuracy: 0.7830 - val_loss: 0.4282\n",
      "Epoch 6/20\n",
      "\u001b[1m118/118\u001b[0m \u001b[32m━━━━━━━━━━━━━━━━━━━━\u001b[0m\u001b[37m\u001b[0m \u001b[1m21s\u001b[0m 106ms/step - accuracy: 0.7366 - loss: 0.4817 - val_accuracy: 0.7872 - val_loss: 0.4064\n",
      "Epoch 7/20\n",
      "\u001b[1m118/118\u001b[0m \u001b[32m━━━━━━━━━━━━━━━━━━━━\u001b[0m\u001b[37m\u001b[0m \u001b[1m13s\u001b[0m 111ms/step - accuracy: 0.7290 - loss: 0.5137 - val_accuracy: 0.8170 - val_loss: 0.3639\n",
      "Epoch 8/20\n",
      "\u001b[1m118/118\u001b[0m \u001b[32m━━━━━━━━━━━━━━━━━━━━\u001b[0m\u001b[37m\u001b[0m \u001b[1m20s\u001b[0m 105ms/step - accuracy: 0.7664 - loss: 0.4516 - val_accuracy: 0.8255 - val_loss: 0.3390\n",
      "Epoch 9/20\n",
      "\u001b[1m118/118\u001b[0m \u001b[32m━━━━━━━━━━━━━━━━━━━━\u001b[0m\u001b[37m\u001b[0m \u001b[1m21s\u001b[0m 107ms/step - accuracy: 0.7535 - loss: 0.4373 - val_accuracy: 0.8213 - val_loss: 0.3632\n",
      "Epoch 10/20\n",
      "\u001b[1m118/118\u001b[0m \u001b[32m━━━━━━━━━━━━━━━━━━━━\u001b[0m\u001b[37m\u001b[0m \u001b[1m21s\u001b[0m 106ms/step - accuracy: 0.7643 - loss: 0.4457 - val_accuracy: 0.8255 - val_loss: 0.3486\n",
      "Epoch 11/20\n",
      "\u001b[1m118/118\u001b[0m \u001b[32m━━━━━━━━━━━━━━━━━━━━\u001b[0m\u001b[37m\u001b[0m \u001b[1m20s\u001b[0m 104ms/step - accuracy: 0.7694 - loss: 0.4554 - val_accuracy: 0.8298 - val_loss: 0.3420\n",
      "Epoch 12/20\n",
      "\u001b[1m118/118\u001b[0m \u001b[32m━━━━━━━━━━━━━━━━━━━━\u001b[0m\u001b[37m\u001b[0m \u001b[1m13s\u001b[0m 109ms/step - accuracy: 0.7717 - loss: 0.4122 - val_accuracy: 0.8170 - val_loss: 0.3255\n",
      "Epoch 13/20\n",
      "\u001b[1m118/118\u001b[0m \u001b[32m━━━━━━━━━━━━━━━━━━━━\u001b[0m\u001b[37m\u001b[0m \u001b[1m20s\u001b[0m 102ms/step - accuracy: 0.7449 - loss: 0.4654 - val_accuracy: 0.8213 - val_loss: 0.3123\n",
      "Epoch 14/20\n",
      "\u001b[1m118/118\u001b[0m \u001b[32m━━━━━━━━━━━━━━━━━━━━\u001b[0m\u001b[37m\u001b[0m \u001b[1m12s\u001b[0m 105ms/step - accuracy: 0.8075 - loss: 0.3818 - val_accuracy: 0.8170 - val_loss: 0.3114\n",
      "Epoch 15/20\n",
      "\u001b[1m118/118\u001b[0m \u001b[32m━━━━━━━━━━━━━━━━━━━━\u001b[0m\u001b[37m\u001b[0m \u001b[1m21s\u001b[0m 105ms/step - accuracy: 0.7949 - loss: 0.4076 - val_accuracy: 0.8255 - val_loss: 0.3151\n",
      "Epoch 16/20\n",
      "\u001b[1m118/118\u001b[0m \u001b[32m━━━━━━━━━━━━━━━━━━━━\u001b[0m\u001b[37m\u001b[0m \u001b[1m21s\u001b[0m 105ms/step - accuracy: 0.7816 - loss: 0.3636 - val_accuracy: 0.8000 - val_loss: 0.3218\n",
      "Epoch 17/20\n",
      "\u001b[1m118/118\u001b[0m \u001b[32m━━━━━━━━━━━━━━━━━━━━\u001b[0m\u001b[37m\u001b[0m \u001b[1m21s\u001b[0m 105ms/step - accuracy: 0.7875 - loss: 0.3826 - val_accuracy: 0.8085 - val_loss: 0.3145\n",
      "Epoch 18/20\n",
      "\u001b[1m118/118\u001b[0m \u001b[32m━━━━━━━━━━━━━━━━━━━━\u001b[0m\u001b[37m\u001b[0m \u001b[1m20s\u001b[0m 103ms/step - accuracy: 0.7944 - loss: 0.3682 - val_accuracy: 0.8255 - val_loss: 0.3081\n",
      "Epoch 19/20\n",
      "\u001b[1m118/118\u001b[0m \u001b[32m━━━━━━━━━━━━━━━━━━━━\u001b[0m\u001b[37m\u001b[0m \u001b[1m21s\u001b[0m 105ms/step - accuracy: 0.7842 - loss: 0.4040 - val_accuracy: 0.8128 - val_loss: 0.3158\n",
      "Epoch 20/20\n",
      "\u001b[1m118/118\u001b[0m \u001b[32m━━━━━━━━━━━━━━━━━━━━\u001b[0m\u001b[37m\u001b[0m \u001b[1m21s\u001b[0m 105ms/step - accuracy: 0.7806 - loss: 0.3760 - val_accuracy: 0.8298 - val_loss: 0.2964\n"
     ]
    },
    {
     "data": {
      "image/png": "[encoded data removed]",
      "text/plain": [
       "<Figure size 640x480 with 1 Axes>"
      ]
     },
     "metadata": {},
     "output_type": "display_data"
    }
   ],
   "source": [
    "from tensorflow.keras.applications import MobileNetV2\n",
    "from tensorflow.keras.models import Model\n",
    "from tensorflow.keras.layers import GlobalAveragePooling2D, Dense, Dropout\n",
    "from tensorflow.keras.optimizers import Adam\n",
    "import matplotlib.pyplot as plt\n",
    "\n",
    "# Load MobileNetV2 base\n",
    "base_model = MobileNetV2(include_top=False, weights='imagenet', input_shape=(128, 128, 3))\n",
    "\n",
    "# Freeze all layers in the base model\n",
    "for layer in base_model.layers:\n",
    "    layer.trainable = False\n",
    "\n",
    "# Add classification head\n",
    "x = base_model.output\n",
    "x = GlobalAveragePooling2D()(x)\n",
    "x = Dropout(0.5)(x)\n",
    "x = Dense(128, activation='relu')(x)\n",
    "x = Dropout(0.5)(x)\n",
    "output = Dense(2, activation='softmax')(x)\n",
    "\n",
    "# Create full model\n",
    "face_model = Model(inputs=base_model.input, outputs=output)\n",
    "\n",
    "# Compile\n",
    "face_model.compile(optimizer=Adam(learning_rate=0.001),\n",
    "                   loss='categorical_crossentropy',\n",
    "                   metrics=['accuracy'])\n",
    "\n",
    "# Train\n",
    "history = face_model.fit(\n",
    "    X_train, y_train,\n",
    "    validation_data=(X_test, y_test),\n",
    "    epochs=20,\n",
    "    batch_size=8,\n",
    "    verbose=1\n",
    ")\n",
    "\n",
    "# Plot accuracy\n",
    "plt.plot(history.history['accuracy'], label='Train Accuracy')\n",
    "plt.plot(history.history['val_accuracy'], label='Val Accuracy')\n",
    "plt.title(\"Model Accuracy\")\n",
    "plt.xlabel(\"Epoch\")\n",
    "plt.ylabel(\"Accuracy\")\n",
    "plt.legend()\n",
    "plt.grid(True)\n",
    "plt.show()\n"
   ]
  },
  {
   "cell_type": "code",
   "execution_count": 4,
   "id": "752d25bf-2dab-448d-a33f-53e2afcc08e2",
   "metadata": {},
   "outputs": [
    {
     "name": "stderr",
     "output_type": "stream",
     "text": [
      "WARNING:absl:You are saving your model as an HDF5 file via `model.save()` or `keras.saving.save_model(model)`. This file format is considered legacy. We recommend using instead the native Keras format, e.g. `model.save('my_model.keras')` or `keras.saving.save_model(model, 'my_model.keras')`. \n"
     ]
    }
   ],
   "source": [
    "face_model.save(\"face_deepfake_model.h5\")\n"
   ]
  },
  {
   "cell_type": "code",
   "execution_count": 8,
   "id": "c916efb1-e61a-4c7e-bdc5-7f56385909cc",
   "metadata": {},
   "outputs": [
    {
     "name": "stdout",
     "output_type": "stream",
     "text": [
      "Epoch 1/20\n",
      "\u001b[1m118/118\u001b[0m \u001b[32m━━━━━━━━━━━━━━━━━━━━\u001b[0m\u001b[37m\u001b[0m \u001b[1m33s\u001b[0m 156ms/step - accuracy: 0.8112 - loss: 0.3482 - val_accuracy: 0.8255 - val_loss: 0.2612\n",
      "Epoch 2/20\n",
      "\u001b[1m118/118\u001b[0m \u001b[32m━━━━━━━━━━━━━━━━━━━━\u001b[0m\u001b[37m\u001b[0m \u001b[1m17s\u001b[0m 130ms/step - accuracy: 0.8286 - loss: 0.3050 - val_accuracy: 0.8298 - val_loss: 0.2514\n",
      "Epoch 3/20\n",
      "\u001b[1m118/118\u001b[0m \u001b[32m━━━━━━━━━━━━━━━━━━━━\u001b[0m\u001b[37m\u001b[0m \u001b[1m20s\u001b[0m 128ms/step - accuracy: 0.8341 - loss: 0.3049 - val_accuracy: 0.8255 - val_loss: 0.2538\n",
      "Epoch 4/20\n",
      "\u001b[1m118/118\u001b[0m \u001b[32m━━━━━━━━━━━━━━━━━━━━\u001b[0m\u001b[37m\u001b[0m \u001b[1m20s\u001b[0m 127ms/step - accuracy: 0.8145 - loss: 0.3421 - val_accuracy: 0.8298 - val_loss: 0.2556\n",
      "Epoch 5/20\n",
      "\u001b[1m118/118\u001b[0m \u001b[32m━━━━━━━━━━━━━━━━━━━━\u001b[0m\u001b[37m\u001b[0m \u001b[1m21s\u001b[0m 127ms/step - accuracy: 0.8165 - loss: 0.3482 - val_accuracy: 0.8255 - val_loss: 0.2554\n"
     ]
    }
   ],
   "source": [
    "from tensorflow.keras.optimizers import Adam\n",
    "from tensorflow.keras.callbacks import EarlyStopping\n",
    "\n",
    "# ✅ Step 4: Unfreeze the last 20 layers of MobileNetV2\n",
    "for layer in face_model.layers[-20:]:\n",
    "    layer.trainable = True\n",
    "\n",
    "# ✅ Recompile with a low learning rate\n",
    "face_model.compile(\n",
    "    optimizer=Adam(learning_rate=1e-5),\n",
    "    loss='categorical_crossentropy',\n",
    "    metrics=['accuracy']\n",
    ")\n",
    "\n",
    "# Optional: Stop early if val_loss stops improving\n",
    "early_stop = EarlyStopping(monitor='val_loss', patience=3, restore_best_weights=True)\n",
    "\n",
    "# ✅ Retrain (fine-tuning stage)\n",
    "history_finetune = face_model.fit(\n",
    "    X_train, y_train,\n",
    "    validation_data=(X_test, y_test),\n",
    "    epochs=20,\n",
    "    batch_size=8,\n",
    "    callbacks=[early_stop],\n",
    "    verbose=1\n",
    ")\n"
   ]
  },
  {
   "cell_type": "code",
   "execution_count": 6,
   "id": "2c3a6c0a-7765-4ce8-b107-1840a9dbde31",
   "metadata": {},
   "outputs": [],
   "source": [
    "import random\n",
    "import os\n",
    "import numpy as np\n",
    "from PIL import Image\n",
    "\n",
    "def predict_random_face_images(face_model, real_dir, fake_dir, image_size=(128, 128), num_samples=15):\n",
    "    # Gather file paths\n",
    "    real_images = [os.path.join(real_dir, f) for f in os.listdir(real_dir) if f.endswith(\".jpg\")]\n",
    "    fake_images = [os.path.join(fake_dir, f) for f in os.listdir(fake_dir) if f.endswith(\".jpg\")]\n",
    "\n",
    "    # Combine and sample\n",
    "    all_images = real_images + fake_images\n",
    "    sampled_images = random.sample(all_images, min(num_samples, len(all_images)))\n",
    "\n",
    "    class_labels = [\"FAKE\", \"REAL\"]\n",
    "\n",
    "    print(f\"\\n🎯 Testing {len(sampled_images)} random face crops:\\n\")\n",
    "\n",
    "    for img_path in sampled_images:\n",
    "        img = Image.open(img_path).convert(\"RGB\")\n",
    "        img = img.resize(image_size)\n",
    "        img_array = np.array(img) / 255.0\n",
    "        img_array = img_array.reshape((1, 128, 128, 3))\n",
    "\n",
    "        pred = face_model.predict(img_array, verbose=0)[0]\n",
    "        predicted_label = class_labels[np.argmax(pred)]\n",
    "        confidence = round(np.max(pred) * 100, 2)\n",
    "\n",
    "        print(f\"📷 {os.path.basename(img_path)} → Prediction: {predicted_label} ({confidence}%)\")\n",
    "\n"
   ]
  },
  {
   "cell_type": "code",
   "execution_count": 7,
   "id": "6d8c5c34-043d-4ec6-b7a0-0a6e5621815b",
   "metadata": {},
   "outputs": [
    {
     "name": "stdout",
     "output_type": "stream",
     "text": [
      "\n",
      "🎯 Testing 15 random face crops:\n",
      "\n",
      "📷 FAKE_01_02__meeting_serious__YVGY8LOK_face33.jpg → Prediction: FAKE (99.58999633789062%)\n",
      "📷 FAKE_01_02__secret_conversation__YVGY8LOK_face8.jpg → Prediction: FAKE (99.95999908447266%)\n",
      "📷 FAKE_01_02__secret_conversation__YVGY8LOK_face79.jpg → Prediction: FAKE (50.27000045776367%)\n",
      "📷 FAKE_01_02__meeting_serious__YVGY8LOK_face115.jpg → Prediction: FAKE (72.12000274658203%)\n",
      "📷 REAL_01__exit_phone_room_face2.jpg → Prediction: REAL (74.95999908447266%)\n",
      "📷 REAL_01__meeting_serious_face139.jpg → Prediction: REAL (51.380001068115234%)\n",
      "📷 REAL_01__talking_angry_couch_face59.jpg → Prediction: REAL (100.0%)\n",
      "📷 REAL_01__hugging_happy_face31.jpg → Prediction: REAL (86.44000244140625%)\n",
      "📷 REAL_01__hugging_happy_face8.jpg → Prediction: REAL (83.36000061035156%)\n",
      "📷 REAL_01__talking_angry_couch_face38.jpg → Prediction: REAL (97.44000244140625%)\n",
      "📷 REAL_01__talking_angry_couch_face71.jpg → Prediction: REAL (94.86000061035156%)\n",
      "📷 REAL_01__secret_conversation_face22.jpg → Prediction: REAL (93.13999938964844%)\n",
      "📷 FAKE_01_02__hugging_happy__YVGY8LOK_face4.jpg → Prediction: REAL (52.189998626708984%)\n",
      "📷 FAKE_01_02__exit_phone_room__YVGY8LOK_face4.jpg → Prediction: FAKE (99.87000274658203%)\n",
      "📷 FAKE_01_02__walk_down_hall_angry__YVGY8LOK_face10.jpg → Prediction: FAKE (99.83999633789062%)\n"
     ]
    }
   ],
   "source": [
    "predict_random_face_images(\n",
    "    face_model,\n",
    "    real_dir=\"C:/Users/gavin/Documents/Dataset/face_crops/REAL\",\n",
    "    fake_dir=\"C:/Users/gavin/Documents/Dataset/face_crops/FAKE\",\n",
    "    num_samples=15\n",
    ")\n"
   ]
  },
  {
   "cell_type": "code",
   "execution_count": 9,
   "id": "c5fcb21c-9a05-4d85-8d7d-24d03851fa4e",
   "metadata": {},
   "outputs": [
    {
     "name": "stdout",
     "output_type": "stream",
     "text": [
      "Collecting mtcnn\n",
      "  Downloading mtcnn-1.0.0-py3-none-any.whl.metadata (5.8 kB)\n",
      "Requirement already satisfied: joblib>=1.4.2 in c:\\users\\gavin\\.conda\\envs\\audioenv\\lib\\site-packages (from mtcnn) (1.4.2)\n",
      "Collecting lz4>=4.3.3 (from mtcnn)\n",
      "  Downloading lz4-4.4.4-cp310-cp310-win_amd64.whl.metadata (3.9 kB)\n",
      "Downloading mtcnn-1.0.0-py3-none-any.whl (1.9 MB)\n",
      "   ---------------------------------------- 0.0/1.9 MB ? eta -:--:--\n",
      "   ---------------------------------------- 1.9/1.9 MB 10.5 MB/s eta 0:00:00\n",
      "Downloading lz4-4.4.4-cp310-cp310-win_amd64.whl (99 kB)\n",
      "Installing collected packages: lz4, mtcnn\n",
      "\n",
      "   -------------------- ------------------- 1/2 [mtcnn]\n",
      "   -------------------- ------------------- 1/2 [mtcnn]\n",
      "   ---------------------------------------- 2/2 [mtcnn]\n",
      "\n",
      "Successfully installed lz4-4.4.4 mtcnn-1.0.0\n",
      "Note: you may need to restart the kernel to use updated packages.\n"
     ]
    }
   ],
   "source": [
    "pip install mtcnn\n"
   ]
  },
  {
   "cell_type": "code",
   "execution_count": 9,
   "id": "f2edb0e5-7876-4a6c-92c6-6eebd5f4f0ba",
   "metadata": {},
   "outputs": [
    {
     "name": "stdout",
     "output_type": "stream",
     "text": [
      "\u001b[1m8/8\u001b[0m \u001b[32m━━━━━━━━━━━━━━━━━━━━\u001b[0m\u001b[37m\u001b[0m \u001b[1m6s\u001b[0m 506ms/step\n",
      "✅ Results saved to face_model_predictions.csv\n"
     ]
    }
   ],
   "source": [
    "import pandas as pd\n",
    "import numpy as np\n",
    "\n",
    "# Predict\n",
    "pred_probs = face_model.predict(X_test)\n",
    "pred_labels = np.argmax(pred_probs, axis=1)\n",
    "true_labels = np.argmax(y_test, axis=1)\n",
    "\n",
    "# Decode labels\n",
    "decoded_pred = label_encoder.inverse_transform(pred_labels)\n",
    "decoded_true = label_encoder.inverse_transform(true_labels)\n",
    "confidences = np.max(pred_probs, axis=1)\n",
    "\n",
    "# Prepare DataFrame\n",
    "df_results = pd.DataFrame({\n",
    "    \"Sample_Index\": np.arange(len(decoded_true)),\n",
    "    \"True_Label\": decoded_true,\n",
    "    \"Predicted_Label\": decoded_pred,\n",
    "    \"Confidence\": np.round(confidences * 100, 2)\n",
    "})\n",
    "\n",
    "# Save to CSV\n",
    "csv_path = \"face_model_predictions.csv\"\n",
    "df_results.to_csv(csv_path, index=False)\n",
    "print(f\"✅ Results saved to {csv_path}\")\n",
    "                                                                                  "
   ]
  },
  {
   "cell_type": "code",
   "execution_count": 10,
   "id": "9e0b6210-b38f-4a40-b660-6ac2ae956e53",
   "metadata": {},
   "outputs": [
    {
     "name": "stdout",
     "output_type": "stream",
     "text": [
      "\u001b[1m8/8\u001b[0m \u001b[32m━━━━━━━━━━━━━━━━━━━━\u001b[0m\u001b[37m\u001b[0m \u001b[1m1s\u001b[0m 138ms/step\n",
      "📊 Classification Report:\n",
      "\n",
      "              precision    recall  f1-score   support\n",
      "\n",
      "        FAKE       0.84      0.78      0.81       111\n",
      "        REAL       0.82      0.87      0.84       124\n",
      "\n",
      "    accuracy                           0.83       235\n",
      "   macro avg       0.83      0.83      0.83       235\n",
      "weighted avg       0.83      0.83      0.83       235\n",
      "\n"
     ]
    },
    {
     "data": {
      "image/png": "[encoded data removed]",
      "text/plain": [
       "<Figure size 600x500 with 2 Axes>"
      ]
     },
     "metadata": {},
     "output_type": "display_data"
    }
   ],
   "source": [
    "from sklearn.metrics import classification_report, confusion_matrix\n",
    "import seaborn as sns\n",
    "import matplotlib.pyplot as plt\n",
    "import numpy as np\n",
    "\n",
    "# Predict on test set\n",
    "pred_probs = face_model.predict(X_test)\n",
    "pred_labels = np.argmax(pred_probs, axis=1)\n",
    "true_labels = np.argmax(y_test, axis=1)\n",
    "\n",
    "# Get class names from the label encoder\n",
    "class_names = label_encoder.classes_\n",
    "\n",
    "# 🔍 Classification report\n",
    "report = classification_report(true_labels, pred_labels, target_names=class_names)\n",
    "print(\"📊 Classification Report:\\n\")\n",
    "print(report)\n",
    "\n",
    "# 🔲 Confusion matrix\n",
    "cm = confusion_matrix(true_labels, pred_labels)\n",
    "\n",
    "plt.figure(figsize=(6, 5))\n",
    "sns.heatmap(cm, annot=True, fmt='d', cmap='Blues',\n",
    "            xticklabels=class_names, yticklabels=class_names)\n",
    "plt.xlabel(\"Predicted\")\n",
    "plt.ylabel(\"Actual\")\n",
    "plt.title(\"Confusion Matrix\")\n",
    "plt.tight_layout()\n",
    "plt.show()\n"
   ]
  }
 ],
 "metadata": {
  "kernelspec": {
   "display_name": "Python (audioai)",
   "language": "python",
   "name": "audioai"
  },
  "language_info": {
   "codemirror_mode": {
    "name": "ipython",
    "version": 3
   },
   "file_extension": ".py",
   "mimetype": "text/x-python",
   "name": "python",
   "nbconvert_exporter": "python",
   "pygments_lexer": "ipython3",
   "version": "3.10.16"
  }
 },
 "nbformat": 4,
 "nbformat_minor": 5
}
